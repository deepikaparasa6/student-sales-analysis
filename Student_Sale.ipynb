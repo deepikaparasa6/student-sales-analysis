{
  "nbformat": 4,
  "nbformat_minor": 0,
  "metadata": {
    "colab": {
      "provenance": [],
      "authorship_tag": "ABX9TyND11I07wkX9v6u8HWGsTy9",
      "include_colab_link": true
    },
    "kernelspec": {
      "name": "python3",
      "display_name": "Python 3"
    },
    "language_info": {
      "name": "python"
    }
  },
  "cells": [
    {
      "cell_type": "markdown",
      "metadata": {
        "id": "view-in-github",
        "colab_type": "text"
      },
      "source": [
        "<a href=\"https://colab.research.google.com/github/deepikaparasa6/student-sales-analysis/blob/develop/Student_Sale.ipynb\" target=\"_parent\"><img src=\"https://colab.research.google.com/assets/colab-badge.svg\" alt=\"Open In Colab\"/></a>"
      ]
    },
    {
      "cell_type": "code",
      "execution_count": null,
      "metadata": {
        "id": "KWbRKyz5_J-c"
      },
      "outputs": [],
      "source": [
        "from google.colab import files\n",
        "uploaded = files.upload()\n"
      ]
    },
    {
      "cell_type": "code",
      "source": [
        "import pandas as pd\n",
        "\n",
        "# Replace with your file name if different\n",
        "df = pd.read_csv('student_sales_utu8ah0DC6.csv')\n",
        "\n",
        "# Peek at the data\n",
        "df.head()\n"
      ],
      "metadata": {
        "id": "dpE9baI46pEO"
      },
      "execution_count": null,
      "outputs": []
    },
    {
      "cell_type": "code",
      "source": [
        "# Check missing values\n",
        "df.isnull().sum()\n"
      ],
      "metadata": {
        "id": "yn8D2nvB65JO"
      },
      "execution_count": null,
      "outputs": []
    },
    {
      "cell_type": "code",
      "source": [
        "df['PurchaseDate'] = pd.to_datetime(df['PurchaseDate'], errors='coerce')\n"
      ],
      "metadata": {
        "id": "fSk_zRnk7Jrm"
      },
      "execution_count": null,
      "outputs": []
    },
    {
      "cell_type": "code",
      "source": [
        "# Check for duplicates\n",
        "print(\"Duplicate rows:\", df.duplicated().sum())\n",
        "\n",
        "# Remove them if any\n",
        "df = df.drop_duplicates()\n"
      ],
      "metadata": {
        "id": "wVBa9c_p7O-m"
      },
      "execution_count": null,
      "outputs": []
    },
    {
      "cell_type": "code",
      "source": [
        "# Check for negative values in price-related columns\n",
        "columns_to_check = ['UnitPrice', 'Quantity', 'Total', 'Discount', 'FinalTotal']\n",
        "\n",
        "for col in columns_to_check:\n",
        "    negatives = df[df[col] < 0]\n",
        "    print(f\"{col}: {len(negatives)} negative values\")\n"
      ],
      "metadata": {
        "id": "CM0IIa7e7QvG"
      },
      "execution_count": null,
      "outputs": []
    },
    {
      "cell_type": "code",
      "source": [
        "import matplotlib.pyplot as plt\n",
        "import seaborn as sns\n",
        "\n",
        "plt.figure(figsize=(10,6))\n",
        "sns.countplot(data=df, x='Product', order=df['Product'].value_counts().index, palette='cool')\n",
        "plt.title(\"Number of Sales per Product Type\")\n",
        "plt.xticks(rotation=45)\n",
        "plt.tight_layout()\n",
        "plt.show()\n"
      ],
      "metadata": {
        "id": "p7erpZWT7a3-"
      },
      "execution_count": null,
      "outputs": []
    },
    {
      "cell_type": "code",
      "source": [
        "df['Month'] = df['PurchaseDate'].dt.to_period('M')\n",
        "monthly_sales = df.groupby('Month')['FinalTotal'].sum()\n",
        "\n",
        "monthly_sales.plot(kind='line', marker='o', figsize=(10,5), title='Monthly Sales Trend')\n",
        "plt.ylabel('Total Sales')\n",
        "plt.xlabel('Month')\n",
        "plt.xticks(rotation=45)\n",
        "plt.grid(True)\n",
        "plt.show()\n"
      ],
      "metadata": {
        "id": "gzJKSQXl7d_5"
      },
      "execution_count": null,
      "outputs": []
    },
    {
      "cell_type": "code",
      "source": [
        "plt.figure(figsize=(8,5))\n",
        "sns.barplot(data=df, x='Region', y='FinalTotal', estimator='mean', ci=None, palette='pastel')\n",
        "plt.title(\"Average FinalTotal by Region\")\n",
        "plt.show()\n"
      ],
      "metadata": {
        "id": "Ru0YWMj17hGn"
      },
      "execution_count": null,
      "outputs": []
    },
    {
      "cell_type": "code",
      "source": [
        "top_products = df.groupby('Product')['FinalTotal'].sum().sort_values(ascending=False)\n",
        "\n",
        "top_products.plot(kind='bar', figsize=(10,5), color='skyblue')\n",
        "plt.title(\"Top-Selling Products by Revenue\")\n",
        "plt.ylabel('Total Revenue')\n",
        "plt.xticks(rotation=45)\n",
        "plt.show()\n"
      ],
      "metadata": {
        "id": "wFigZOID7j8G"
      },
      "execution_count": null,
      "outputs": []
    },
    {
      "cell_type": "code",
      "source": [
        "plt.figure(figsize=(8,5))\n",
        "sns.barplot(data=df, x='Grade', y='FinalTotal', estimator='mean', ci=None, palette='magma')\n",
        "plt.title(\"Average Spend by Grade\")\n",
        "plt.show()\n"
      ],
      "metadata": {
        "id": "tlYuNjT_7k4u"
      },
      "execution_count": null,
      "outputs": []
    },
    {
      "cell_type": "code",
      "source": [
        "plt.figure(figsize=(7,5))\n",
        "payment_counts = df['PaymentMethod'].value_counts()\n",
        "plt.pie(payment_counts, labels=payment_counts.index, autopct='%1.1f%%', startangle=140, colors=sns.color_palette('Set2'))\n",
        "plt.title(\"Preferred Payment Methods\")\n",
        "plt.axis('equal')\n",
        "plt.show()\n"
      ],
      "metadata": {
        "id": "3ZcX1j7G7m4_"
      },
      "execution_count": null,
      "outputs": []
    },
    {
      "cell_type": "code",
      "source": [
        "region_sales = df.groupby('Region')['FinalTotal'].sum().sort_values(ascending=False)\n",
        "\n",
        "print(\"💰 Region-wise Total Sales:\")\n",
        "print(region_sales)\n",
        "\n",
        "# Optional bar plot\n",
        "region_sales.plot(kind='bar', color='gold', figsize=(8,5), title='Total Sales by Region')\n",
        "plt.ylabel(\"Total Final Sales\")\n",
        "plt.show()\n"
      ],
      "metadata": {
        "id": "rIqWIA_I7o5-"
      },
      "execution_count": null,
      "outputs": []
    },
    {
      "cell_type": "code",
      "source": [
        "product_revenue = df.groupby('Product')['FinalTotal'].sum().sort_values(ascending=False)\n",
        "\n",
        "print(\"📦 Product Revenue:\")\n",
        "print(product_revenue)\n",
        "\n",
        "# Optional bar chart\n",
        "product_revenue.plot(kind='barh', color='salmon', figsize=(8,6), title=\"Revenue per Product\")\n",
        "plt.xlabel(\"Total Revenue\")\n",
        "plt.ylabel(\"Product\")\n",
        "plt.show()\n"
      ],
      "metadata": {
        "id": "hmLvX48p7v_P"
      },
      "execution_count": null,
      "outputs": []
    },
    {
      "cell_type": "code",
      "source": [
        "payment_counts = df['PaymentMethod'].value_counts()\n",
        "\n",
        "print(\"💳 Payment Method Usage:\")\n",
        "print(payment_counts)\n",
        "\n",
        "# Optional pie chart again\n",
        "plt.pie(payment_counts, labels=payment_counts.index, autopct='%1.1f%%', startangle=140, colors=sns.color_palette('pastel'))\n",
        "plt.title(\"Most Popular Payment Method\")\n",
        "plt.axis('equal')\n",
        "plt.show()\n"
      ],
      "metadata": {
        "id": "jFUxJWnX7xlm"
      },
      "execution_count": null,
      "outputs": []
    },
    {
      "cell_type": "code",
      "source": [
        "avg_discount = df.groupby('Product')['Discount'].mean().sort_values(ascending=False)\n",
        "\n",
        "print(\"🔖 Average Discount by Product:\")\n",
        "print(avg_discount)\n",
        "\n",
        "# Optional bar chart\n",
        "avg_discount.plot(kind='bar', color='purple', figsize=(10,5), title='Average Discount per Product')\n",
        "plt.ylabel(\"Avg Discount\")\n",
        "plt.xticks(rotation=45)\n",
        "plt.show()"
      ],
      "metadata": {
        "id": "ozKzfAOy7zEm"
      },
      "execution_count": null,
      "outputs": []
    },
    {
      "cell_type": "code",
      "source": [
        "monthly_sales = df.groupby(df['PurchaseDate'].dt.to_period('M'))['FinalTotal'].sum()\n",
        "\n",
        "monthly_sales.plot(kind='line', marker='o', color='teal', figsize=(10,6), linewidth=2)\n",
        "plt.title(\"📈 Monthly Sales Trend\", fontsize=14)\n",
        "plt.xlabel(\"Month\")\n",
        "plt.ylabel(\"Total Sales\")\n",
        "plt.grid(True)\n",
        "plt.xticks(rotation=45)\n",
        "plt.tight_layout()\n",
        "plt.show()\n"
      ],
      "metadata": {
        "id": "UdhJnpaK71Qu"
      },
      "execution_count": null,
      "outputs": []
    },
    {
      "cell_type": "code",
      "source": [
        "product_sales = df.groupby('Product')['FinalTotal'].sum().sort_values(ascending=False)\n",
        "\n",
        "plt.figure(figsize=(10,6))\n",
        "sns.barplot(x=product_sales.index, y=product_sales.values, palette='coolwarm')\n",
        "plt.title(\"🛍️ Total Sales by Product\")\n",
        "plt.ylabel(\"Total Revenue\")\n",
        "plt.xticks(rotation=45)\n",
        "plt.tight_layout()\n",
        "plt.show()\n"
      ],
      "metadata": {
        "id": "RrAmCuCY7-zm"
      },
      "execution_count": null,
      "outputs": []
    },
    {
      "cell_type": "code",
      "source": [
        "region_totals = df.groupby('Region')['FinalTotal'].sum()\n",
        "\n",
        "plt.figure(figsize=(7,7))\n",
        "plt.pie(region_totals, labels=region_totals.index, autopct='%1.1f%%', startangle=90, colors=sns.color_palette('Set3'))\n",
        "plt.title(\"🌍 Sales Distribution by Region\")\n",
        "plt.axis('equal')\n",
        "plt.show()\n"
      ],
      "metadata": {
        "id": "CojTic9s8AuH"
      },
      "execution_count": null,
      "outputs": []
    },
    {
      "cell_type": "code",
      "source": [
        "# Correlation matrix\n",
        "corr = df[['UnitPrice', 'Quantity', 'Total', 'Discount', 'FinalTotal']].corr()\n",
        "\n",
        "plt.figure(figsize=(8,6))\n",
        "sns.heatmap(corr, annot=True, cmap='YlGnBu', linewidths=0.5)\n",
        "plt.title(\"🔥 Correlation Heatmap\")\n",
        "plt.show()\n"
      ],
      "metadata": {
        "id": "-dNZ1daz8C1u"
      },
      "execution_count": null,
      "outputs": []
    },
    {
      "cell_type": "code",
      "source": [
        "plt.figure(figsize=(10,6))\n",
        "sns.boxplot(data=df, x='PaymentMethod', y='FinalTotal', palette='Set2')\n",
        "plt.title(\"💸 FinalTotal Distribution by Payment Method\")\n",
        "plt.xticks(rotation=30)\n",
        "plt.tight_layout()\n",
        "plt.show()\n"
      ],
      "metadata": {
        "id": "CMy9T5vw8Eyu"
      },
      "execution_count": null,
      "outputs": []
    },
    {
      "cell_type": "code",
      "source": [
        "df['Month'] = df['PurchaseDate'].dt.month_name()\n",
        "df[['PurchaseDate', 'Month']].head()\n"
      ],
      "metadata": {
        "id": "RB7zs1--8Kym"
      },
      "execution_count": null,
      "outputs": []
    },
    {
      "cell_type": "code",
      "source": [
        "df['DiscountRate'] = df['Discount'] / df['Total']\n",
        "df[['Product', 'Total', 'Discount', 'DiscountRate']].head()\n"
      ],
      "metadata": {
        "id": "OZHqyrwD8OL4"
      },
      "execution_count": null,
      "outputs": []
    },
    {
      "cell_type": "code",
      "source": [
        "# You can pick any threshold like 500, 1000 etc\n",
        "threshold = 500\n",
        "df['HighValueFlag'] = df['FinalTotal'] > threshold\n",
        "\n",
        "# See some results\n",
        "df[['FinalTotal', 'HighValueFlag']].head()\n"
      ],
      "metadata": {
        "id": "qe3QZFh08PAs"
      },
      "execution_count": null,
      "outputs": []
    },
    {
      "cell_type": "code",
      "source": [],
      "metadata": {
        "id": "QBsyY3HW8Qsu"
      },
      "execution_count": null,
      "outputs": []
    }
  ]
}